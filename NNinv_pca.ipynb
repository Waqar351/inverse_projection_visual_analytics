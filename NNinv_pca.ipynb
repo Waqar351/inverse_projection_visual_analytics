{
 "cells": [
  {
   "cell_type": "code",
   "execution_count": 1,
   "id": "bca864db",
   "metadata": {},
   "outputs": [],
   "source": [
    "import numpy as np\n",
    "import matplotlib.pyplot as plt\n",
    "from sklearn.decomposition import PCA"
   ]
  },
  {
   "cell_type": "code",
   "execution_count": 2,
   "id": "2567a3e9",
   "metadata": {},
   "outputs": [
    {
     "name": "stdout",
     "output_type": "stream",
     "text": [
      "[[0. 0. 0.]\n",
      " [1. 0. 1.]\n",
      " [1. 0. 0.]]\n",
      "(900, 3)\n",
      "(900,)\n"
     ]
    }
   ],
   "source": [
    "dim = 3\n",
    "n_gauss = 3\n",
    "n_pts_per_gauss = 300\n",
    "np.random.seed(5)\n",
    "\n",
    "centers = np.zeros((n_gauss,dim))\n",
    "for i in range(1,n_gauss):\n",
    "    centers[i] = np.random.randint(0,2,3)\n",
    "    \n",
    "print(centers)\n",
    "\n",
    "cov_m = [np.diag([0.01 for i in range(dim)]),np.diag([0.1 if i%2 !=0 else 0.1 for i in range(dim)])]\n",
    "\n",
    "D = np.zeros((n_pts_per_gauss*n_gauss,dim))\n",
    "c = np.zeros(n_pts_per_gauss*n_gauss)\n",
    "for i in range(dim):\n",
    "    k = np.random.randint(0,2,1)[0]\n",
    "    D[i*n_pts_per_gauss:(i+1)*n_pts_per_gauss] = np.random.multivariate_normal(centers[i],cov_m[k],n_pts_per_gauss)\n",
    "    breakpoint()\n",
    "    c[i*n_pts_per_gauss:(i+1)*n_pts_per_gauss] = i\n",
    "breakpoint()    \n",
    "D = (D-np.min(D,axis=0))/(np.max(D,axis=0)-np.min(D,axis=0))\n",
    "print(D.shape)\n",
    "print(c.shape)"
   ]
  },
  {
   "cell_type": "markdown",
   "id": "59c4a166",
   "metadata": {},
   "source": [
    "# Apply Projection 3D --> 2D"
   ]
  },
  {
   "cell_type": "markdown",
   "id": "19a725d7",
   "metadata": {},
   "source": [
    "### PCA"
   ]
  },
  {
   "cell_type": "code",
   "execution_count": 3,
   "id": "ad8b497b",
   "metadata": {},
   "outputs": [],
   "source": [
    "# Apply PCA to the 3D Gaussian data\n",
    "pca_model = PCA(\n",
    "    n_components=2,\n",
    "    random_state=0,\n",
    "    )\n",
    "\n",
    "\n",
    "# Apply PCA on the 3D Gaussian data `D`\n",
    "p = pca_model.fit_transform(D)"
   ]
  },
  {
   "cell_type": "code",
   "execution_count": 4,
   "id": "5d6cd081",
   "metadata": {},
   "outputs": [
    {
     "name": "stdout",
     "output_type": "stream",
     "text": [
      "(900, 3)\n",
      "(900, 2)\n"
     ]
    }
   ],
   "source": [
    "print(D.shape)\n",
    "print(p.shape)"
   ]
  },
  {
   "cell_type": "code",
   "execution_count": 5,
   "id": "78e7297a",
   "metadata": {},
   "outputs": [],
   "source": [
    "# Plotting the PCA results with the same color scheme\n",
    "%matplotlib qt\n",
    "\n",
    "colors = ['r', 'g', 'b']  # Red, Green, Blue\n",
    "plt.figure(figsize=(10, 8))\n",
    "for i in range(n_gauss):\n",
    "    plt.scatter(p[c == i, 0], p[c == i, 1], color=colors[i], label=f'Gaussian {i+1}')\n",
    "\n",
    "plt.title('PCA Visualization of 3D Gaussian Distributions into 2D')\n",
    "plt.legend()\n",
    "plt.show()"
   ]
  },
  {
   "cell_type": "markdown",
   "id": "4ffc6d04",
   "metadata": {},
   "source": [
    "# Inverse Projection 2D --> 3D"
   ]
  },
  {
   "cell_type": "code",
   "execution_count": 6,
   "id": "8e6c2025",
   "metadata": {},
   "outputs": [],
   "source": [
    "import torch\n",
    "import torch.nn as nn\n",
    "import torch.optim as optim\n",
    "from torch.utils.data import DataLoader, TensorDataset\n",
    "\n",
    "from sklearn.model_selection import train_test_split"
   ]
  },
  {
   "cell_type": "markdown",
   "id": "dc155f6e",
   "metadata": {},
   "source": [
    "## Inverse Projection using Neural Network"
   ]
  },
  {
   "cell_type": "code",
   "execution_count": 7,
   "id": "0eca2070",
   "metadata": {},
   "outputs": [],
   "source": [
    "# Define the MLP model\n",
    "class NNinv(nn.Module):\n",
    "    def __init__(self, input_size, output_size):\n",
    "        super(NNinv, self).__init__()\n",
    "        \n",
    "        # Define the layers\n",
    "        self.layers = nn.Sequential(\n",
    "            nn.Linear(input_size, 64),  # Input to first hidden layer\n",
    "            nn.ReLU(),\n",
    "            nn.Linear(64, 128),  # First hidden layer to second hidden layer\n",
    "            nn.ReLU(),\n",
    "            nn.Linear(128, 256),  # Second hidden layer to third hidden layer\n",
    "            nn.ReLU(),\n",
    "            nn.Linear(256, 512),  # Third hidden layer to fourth hidden layer\n",
    "            nn.ReLU(),\n",
    "            nn.Linear(512, output_size),  # Fifth hidden layer to output\n",
    "            nn.Sigmoid()  # Output layer with sigmoid activation\n",
    "        )\n",
    "    \n",
    "    def forward(self, x):\n",
    "        return self.layers(x)\n"
   ]
  },
  {
   "cell_type": "code",
   "execution_count": 8,
   "id": "4f74bc36",
   "metadata": {},
   "outputs": [],
   "source": [
    "# X_train, X_test, y_train, y_test = train_test_split(S, D, test_size=0.33, random_state=42)\n",
    "X_train, X_test, y_train, y_test, c_train, c_test = train_test_split(p, D,c, test_size=0.33, random_state=42)"
   ]
  },
  {
   "cell_type": "markdown",
   "id": "605428ea",
   "metadata": {},
   "source": [
    "### Model Training"
   ]
  },
  {
   "cell_type": "code",
   "execution_count": 9,
   "id": "b63f054c",
   "metadata": {},
   "outputs": [
    {
     "name": "stdout",
     "output_type": "stream",
     "text": [
      "Epoch [1/5], Loss: 0.2185\n",
      "Epoch [2/5], Loss: 0.1690\n",
      "Epoch [3/5], Loss: 0.1216\n",
      "Epoch [4/5], Loss: 0.0893\n",
      "Epoch [5/5], Loss: 0.0688\n",
      "Training complete.\n"
     ]
    }
   ],
   "source": [
    "# Example usage\n",
    "input_size = 2  # Example input size (can be changed)\n",
    "output_size = dim   # Binary classification (sigmoid output for single output)\n",
    "model = NNinv(input_size, output_size)\n",
    "\n",
    "# Create DataLoader for batch processing\n",
    "batch_size = 64\n",
    "t_X_train = torch.tensor(X_train)\n",
    "t_y_train = torch.tensor(y_train)\n",
    "dataset = TensorDataset(t_X_train, t_y_train)\n",
    "dataloader = DataLoader(dataset, batch_size=batch_size, shuffle=True)\n",
    "\n",
    "# Instantiate the model, loss function, and optimizer\n",
    "model = NNinv(input_size, output_size)\n",
    "loss_fn = nn.L1Loss()  # Mean Absolute Error (MAE)\n",
    "optimizer = optim.Adam(model.parameters(), lr=0.001)\n",
    "\n",
    "# Number of epochs to train\n",
    "num_epochs = 5\n",
    "\n",
    "# Training loop\n",
    "for epoch in range(num_epochs):\n",
    "    running_loss = 0.0\n",
    "    for i, (inputs, targets) in enumerate(dataloader):\n",
    "        # Forward pass\n",
    "        outputs = model(inputs.float())\n",
    "        loss = loss_fn(outputs, targets)\n",
    "        \n",
    "        # Backward pass and optimization\n",
    "        optimizer.zero_grad()\n",
    "        loss.backward()\n",
    "        optimizer.step()\n",
    "\n",
    "        running_loss += loss.item()\n",
    "    \n",
    "    # Print the average loss for the epoch\n",
    "    avg_loss = running_loss / len(dataloader)\n",
    "    print(f\"Epoch [{epoch+1}/{num_epochs}], Loss: {avg_loss:.4f}\")\n",
    "\n",
    "print(\"Training complete.\")"
   ]
  },
  {
   "cell_type": "markdown",
   "id": "a8ef4098",
   "metadata": {},
   "source": [
    "### Model Testing"
   ]
  },
  {
   "cell_type": "code",
   "execution_count": 10,
   "id": "55298a80",
   "metadata": {},
   "outputs": [
    {
     "name": "stdout",
     "output_type": "stream",
     "text": [
      "tensor(0.0002, dtype=torch.float64, grad_fn=<DivBackward0>)\n"
     ]
    }
   ],
   "source": [
    "t_X_test = torch.tensor(X_test)\n",
    "t_y_test = torch.tensor(y_test)\n",
    "outputs_test = model(t_X_test.float())\n",
    "loss_test = loss_fn(outputs_test, t_y_test)\n",
    "print(loss_test/y_test.shape[0])"
   ]
  },
  {
   "cell_type": "markdown",
   "id": "e5356327",
   "metadata": {},
   "source": [
    "## Visualizing Inverse Projection\n",
    "\n",
    "Comparing original datapoints with the predictions"
   ]
  },
  {
   "cell_type": "code",
   "execution_count": 11,
   "id": "d6db5d0a",
   "metadata": {},
   "outputs": [],
   "source": [
    "%matplotlib qt\n",
    "\n",
    "# Create a figure and 3D axis\n",
    "fig = plt.figure(figsize=(10, 8))\n",
    "ax = fig.add_subplot(projection='3d')\n",
    "\n",
    "# Define colors for each Gaussian distribution\n",
    "# colors = ['r', 'g', 'b']  # Red, Green, Blue\n",
    "\n",
    "\n",
    "output_fin = outputs_test.detach().numpy()\n",
    "# Loop through each Gaussian to plot points with corresponding color\n",
    "for i in range(n_gauss):\n",
    "    ax.scatter(t_y_test[c_test == i, 0], t_y_test[c_test == i, 1], t_y_test[c_test == i, 2], color=colors[i], label=f'Actual_Gaussian {i+1}')\n",
    "    # ax.scatter(output_fin[c_test == i, 0], output_fin[c_test == i, 1], output_fin[c_test == i, 2], color='orange', label=f'Predicted_Gaussian {i+1}')\n",
    "\n",
    "ax.scatter(output_fin[:, 0], output_fin[:, 1], output_fin[:, 2], color='orange', label=f'Predicted_Gaussians')\n",
    "\n",
    "# Set labels and title\n",
    "ax.set_xlabel('X-axis')\n",
    "ax.set_ylabel('Y-axis')\n",
    "ax.set_zlabel('Z-axis')\n",
    "ax.set_title('PCA \\n Actual Vs Prediction')\n",
    "\n",
    "# Add a legend\n",
    "ax.legend()\n",
    "\n",
    "# Show the plot\n",
    "plt.show()"
   ]
  },
  {
   "cell_type": "markdown",
   "id": "a4fb922e",
   "metadata": {},
   "source": [
    "## Validating 2D projection"
   ]
  },
  {
   "cell_type": "markdown",
   "id": "309c2087",
   "metadata": {},
   "source": [
    "#### **generate_spread_points()** is a function to generate new points around the spread of the Gaussian clusters in 2D space."
   ]
  },
  {
   "cell_type": "code",
   "execution_count": 12,
   "id": "5e0a6786",
   "metadata": {},
   "outputs": [],
   "source": [
    "def generate_spread_points(S, labels, num_new_points_per_cluster=5, spread_factor=0.5):\n",
    "    \"\"\"\n",
    "    Generate new points around the spread of the Gaussian clusters in 2D space.\n",
    "    \n",
    "    Parameters:\n",
    "    S (np.array): 2D points (original).\n",
    "    labels (np.array): Labels for the original points, corresponding to Gaussian clusters.\n",
    "    num_new_points_per_cluster (int): Number of new points to generate per Gaussian cluster.\n",
    "    spread_factor (float): Spread factor controlling the variance of new points.\n",
    "    \n",
    "    Returns:\n",
    "    new_points (np.array): Newly generated points spread around each cluster.\n",
    "    new_labels (np.array): Labels corresponding to the new points.\n",
    "    \"\"\"\n",
    "    new_points = []\n",
    "    new_labels = []\n",
    "    \n",
    "    # Get the unique labels (each label corresponds to one Gaussian)\n",
    "    unique_labels = np.unique(labels)\n",
    "\n",
    "    for label in unique_labels:\n",
    "        # Get the points that belong to the current Gaussian cluster\n",
    "        cluster_points = S[labels == label]\n",
    "        \n",
    "        # Calculate covariance matrix for the current cluster\n",
    "        cluster_cov = np.cov(cluster_points.T)\n",
    "\n",
    "        for _ in range(num_new_points_per_cluster):\n",
    "            # Randomly choose a point within the cluster\n",
    "            random_point = cluster_points[np.random.randint(len(cluster_points))]\n",
    "            \n",
    "            # Generate a random offset using the covariance matrix to create a spread\n",
    "            offset = np.random.multivariate_normal([0, 0], spread_factor * cluster_cov)\n",
    "\n",
    "            # Add the offset to the selected random point to create a new point\n",
    "            new_point = random_point + offset\n",
    "            new_points.append(new_point)\n",
    "            new_labels.append(label)  # Assign the same label as the original points\n",
    "    \n",
    "    return np.array(new_points), np.array(new_labels)"
   ]
  },
  {
   "cell_type": "code",
   "execution_count": 13,
   "id": "6627c9c0",
   "metadata": {},
   "outputs": [],
   "source": [
    "new_points, new_labels = generate_spread_points(p, c, num_new_points_per_cluster=20, spread_factor=0.3)"
   ]
  },
  {
   "cell_type": "markdown",
   "id": "805d6e2d",
   "metadata": {},
   "source": [
    "### Generate new points in 2D Space (Projection)"
   ]
  },
  {
   "cell_type": "code",
   "execution_count": 14,
   "id": "4a2998b1",
   "metadata": {},
   "outputs": [],
   "source": [
    "# pred_color = ['y', 'purple', 'k']\n",
    "pred_color = ['cyan', 'magenta', 'yellow']\n",
    "markers = ['$G1$', '$G2$', '$G3$']"
   ]
  },
  {
   "cell_type": "code",
   "execution_count": 15,
   "id": "c8d5b576",
   "metadata": {},
   "outputs": [],
   "source": [
    "plt.figure(figsize=(10, 8))\n",
    "for i in range(n_gauss):\n",
    "    plt.scatter(p[c == i, 0], p[c == i, 1], color=colors[i], label=f'Gaussian {i+1}')\n",
    "\n",
    "    # Plot new points\n",
    "    plt.scatter(new_points[new_labels == i, 0], new_points[new_labels == i, 1], color=pred_color[i],marker = markers[i] , s = 100, edgecolors='black', label= f'New Points_Gaussian {i+1}')\n",
    "\n",
    "# plt.scatter(new_points[:, 0], new_points[:, 1], color='brown', label=\"New Points\")\n",
    "\n",
    "plt.legend()\n",
    "plt.title(\"Original and Generated Points in 2D PCA Space\")\n",
    "plt.show()\n"
   ]
  },
  {
   "cell_type": "markdown",
   "id": "edbfe94e",
   "metadata": {},
   "source": [
    "### Apply trained model on new points"
   ]
  },
  {
   "cell_type": "code",
   "execution_count": 16,
   "id": "c894342a",
   "metadata": {},
   "outputs": [],
   "source": [
    "new_points_test = torch.tensor(new_points).float()\n",
    "outputs_new_points = model(new_points_test)\n",
    "outputs_new_points =outputs_new_points.detach().numpy()"
   ]
  },
  {
   "cell_type": "markdown",
   "id": "b613672e",
   "metadata": {},
   "source": [
    "### Visualize new points (2D) in original distribution (3D)"
   ]
  },
  {
   "cell_type": "code",
   "execution_count": 17,
   "id": "0fdda95d",
   "metadata": {},
   "outputs": [],
   "source": [
    "%matplotlib qt\n",
    "\n",
    "# Create a figure and 3D axis\n",
    "fig = plt.figure(figsize=(10, 8))\n",
    "ax = fig.add_subplot(projection='3d')\n",
    "\n",
    "# Loop through each Gaussian to plot points with corresponding color\n",
    "for i in range(n_gauss):\n",
    "    ax.scatter(D[c == i, 0], D[c == i, 1], D[c == i, 2], color=colors[i], alpha=0.7, label=f'Gaussian {i+1}')\n",
    "    ax.scatter(outputs_new_points[new_labels == i, 0], outputs_new_points[new_labels == i, 1], outputs_new_points[new_labels == i, 2], color=pred_color[i], marker=markers[i],alpha=1.0, s=150, edgecolors='black', label=f'New_points_Gaussian {i+1}')\n",
    "\n",
    "# ax.scatter(outputs_new_points[:, 0], outputs_new_points[:, 1], outputs_new_points[:, 2], color='k', label=f'Predicted_Gaussian {i+1}')\n",
    "\n",
    "# Set labels and title\n",
    "ax.set_xlabel('X-axis')\n",
    "ax.set_ylabel('Y-axis')\n",
    "ax.set_zlabel('Z-axis')\n",
    "ax.set_title('New points (2D PCA) mapping into 3D Gaussian Distributions')\n",
    "\n",
    "# Add a legend\n",
    "ax.legend()\n",
    "\n",
    "# Show the plot\n",
    "plt.show()"
   ]
  }
 ],
 "metadata": {
  "kernelspec": {
   "display_name": "inverse-projection-j9xKauoB-py3.12",
   "language": "python",
   "name": "python3"
  },
  "language_info": {
   "codemirror_mode": {
    "name": "ipython",
    "version": 3
   },
   "file_extension": ".py",
   "mimetype": "text/x-python",
   "name": "python",
   "nbconvert_exporter": "python",
   "pygments_lexer": "ipython3",
   "version": "3.12.2"
  }
 },
 "nbformat": 4,
 "nbformat_minor": 5
}
