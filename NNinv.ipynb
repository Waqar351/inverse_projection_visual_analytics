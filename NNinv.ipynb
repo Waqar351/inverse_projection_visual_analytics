{
 "cells": [
  {
   "cell_type": "code",
   "execution_count": null,
   "id": "bca864db",
   "metadata": {},
   "outputs": [],
   "source": [
    "import numpy as np\n",
    "import matplotlib.pyplot as plt\n",
    "from sklearn import manifold"
   ]
  },
  {
   "cell_type": "code",
   "execution_count": null,
   "id": "2567a3e9",
   "metadata": {},
   "outputs": [],
   "source": [
    "dim = 3\n",
    "n_gauss = 3\n",
    "n_pts_per_gauss = 300\n",
    "\n",
    "centers = np.zeros((n_gauss,dim))\n",
    "for i in range(1,n_gauss):\n",
    "    centers[i] = np.random.randint(0,2,3)\n",
    "    \n",
    "print(centers)\n",
    "\n",
    "cov_m = [np.diag([0.01 for i in range(dim)]),np.diag([0.1 if i%2 !=0 else 0.1 for i in range(dim)])]\n",
    "\n",
    "D = np.zeros((n_pts_per_gauss*n_gauss,dim))\n",
    "c = np.zeros(n_pts_per_gauss*n_gauss)\n",
    "for i in range(dim):\n",
    "    k = np.random.randint(0,2,1)[0]\n",
    "    D[i*n_pts_per_gauss:(i+1)*n_pts_per_gauss] = np.random.multivariate_normal(centers[i],cov_m[k],n_pts_per_gauss)\n",
    "    c[i*n_pts_per_gauss:(i+1)*n_pts_per_gauss] = i\n",
    "    \n",
    "D = (D-np.min(D,axis=0))/(np.max(D,axis=0)-np.min(D,axis=0))"
   ]
  },
  {
   "cell_type": "code",
   "execution_count": null,
   "id": "35d55d2c",
   "metadata": {
    "scrolled": true
   },
   "outputs": [],
   "source": [
    "%matplotlib qt\n",
    "fig = plt.figure(figsize=(10,8))\n",
    "ax = fig.add_subplot(projection='3d')\n",
    "ax.scatter(D[:,0], D[:,1], D[:,2])"
   ]
  },
  {
   "cell_type": "code",
   "execution_count": null,
   "id": "91ca16e2",
   "metadata": {},
   "outputs": [],
   "source": [
    "t_sne = manifold.TSNE(\n",
    "    n_components=2,\n",
    "    perplexity=30,\n",
    "    init=\"random\",\n",
    "    random_state=0,\n",
    ")\n",
    "\n",
    "S = t_sne.fit_transform(D)"
   ]
  },
  {
   "cell_type": "code",
   "execution_count": null,
   "id": "5aaa6dbf",
   "metadata": {},
   "outputs": [],
   "source": [
    "fig = plt.figure(figsize=(10,8))\n",
    "plt.scatter(S[:,0],S[:,1],c=c)"
   ]
  },
  {
   "cell_type": "code",
   "execution_count": null,
   "id": "8e6c2025",
   "metadata": {},
   "outputs": [],
   "source": [
    "import torch\n",
    "import torch.nn as nn\n",
    "import torch.optim as optim\n",
    "from torch.utils.data import DataLoader, TensorDataset\n",
    "\n",
    "from sklearn.model_selection import train_test_split"
   ]
  },
  {
   "cell_type": "code",
   "execution_count": null,
   "id": "0eca2070",
   "metadata": {},
   "outputs": [],
   "source": [
    "# Define the MLP model\n",
    "class NNinv(nn.Module):\n",
    "    def __init__(self, input_size, output_size):\n",
    "        super(NNinv, self).__init__()\n",
    "        \n",
    "        # Define the layers\n",
    "        self.layers = nn.Sequential(\n",
    "            nn.Linear(input_size, 64),  # Input to first hidden layer\n",
    "            nn.ReLU(),\n",
    "            nn.Linear(64, 128),  # First hidden layer to second hidden layer\n",
    "            nn.ReLU(),\n",
    "            nn.Linear(128, 256),  # Second hidden layer to third hidden layer\n",
    "            nn.ReLU(),\n",
    "            nn.Linear(256, 512),  # Third hidden layer to fourth hidden layer\n",
    "            nn.ReLU(),\n",
    "            nn.Linear(512, output_size),  # Fifth hidden layer to output\n",
    "            nn.Sigmoid()  # Output layer with sigmoid activation\n",
    "        )\n",
    "    \n",
    "    def forward(self, x):\n",
    "        return self.layers(x)\n"
   ]
  },
  {
   "cell_type": "code",
   "execution_count": null,
   "id": "4f74bc36",
   "metadata": {},
   "outputs": [],
   "source": [
    "X_train, X_test, y_train, y_test = train_test_split(S, D, test_size=0.33, random_state=42)"
   ]
  },
  {
   "cell_type": "code",
   "execution_count": null,
   "id": "7040cbaa",
   "metadata": {},
   "outputs": [],
   "source": [
    "print(X_train.shape,y_train.shape)"
   ]
  },
  {
   "cell_type": "code",
   "execution_count": null,
   "id": "b63f054c",
   "metadata": {},
   "outputs": [],
   "source": [
    "# Example usage\n",
    "input_size = 2  # Example input size (can be changed)\n",
    "output_size = dim   # Binary classification (sigmoid output for single output)\n",
    "model = NNinv(input_size, output_size)\n",
    "\n",
    "# Create DataLoader for batch processing\n",
    "batch_size = 64\n",
    "t_X_train = torch.tensor(X_train)\n",
    "t_y_train = torch.tensor(y_train)\n",
    "dataset = TensorDataset(t_X_train, t_y_train)\n",
    "dataloader = DataLoader(dataset, batch_size=batch_size, shuffle=True)\n",
    "\n",
    "# Instantiate the model, loss function, and optimizer\n",
    "model = NNinv(input_size, output_size)\n",
    "loss_fn = nn.L1Loss()  # Mean Absolute Error (MAE)\n",
    "optimizer = optim.Adam(model.parameters(), lr=0.001)\n",
    "\n",
    "# Number of epochs to train\n",
    "num_epochs = 5\n",
    "\n",
    "# Training loop\n",
    "for epoch in range(num_epochs):\n",
    "    running_loss = 0.0\n",
    "    for i, (inputs, targets) in enumerate(dataloader):\n",
    "        # Forward pass\n",
    "        outputs = model(inputs)\n",
    "        loss = loss_fn(outputs, targets)\n",
    "        \n",
    "        # Backward pass and optimization\n",
    "        optimizer.zero_grad()\n",
    "        loss.backward()\n",
    "        optimizer.step()\n",
    "\n",
    "        running_loss += loss.item()\n",
    "    \n",
    "    # Print the average loss for the epoch\n",
    "    avg_loss = running_loss / len(dataloader)\n",
    "    print(f\"Epoch [{epoch+1}/{num_epochs}], Loss: {avg_loss:.4f}\")\n",
    "\n",
    "print(\"Training complete.\")"
   ]
  },
  {
   "cell_type": "code",
   "execution_count": null,
   "id": "55298a80",
   "metadata": {},
   "outputs": [],
   "source": [
    "t_X_test = torch.tensor(X_test)\n",
    "t_y_test = torch.tensor(y_test)\n",
    "outputs_test = model(t_X_test)\n",
    "loss_test = loss_fn(outputs_test, t_y_test)\n",
    "print(loss_test/y_test.shape[0])"
   ]
  },
  {
   "cell_type": "code",
   "execution_count": null,
   "id": "b238f54f",
   "metadata": {},
   "outputs": [],
   "source": []
  }
 ],
 "metadata": {
  "kernelspec": {
   "display_name": "Python 3 (ipykernel)",
   "language": "python",
   "name": "python3"
  },
  "language_info": {
   "codemirror_mode": {
    "name": "ipython",
    "version": 3
   },
   "file_extension": ".py",
   "mimetype": "text/x-python",
   "name": "python",
   "nbconvert_exporter": "python",
   "pygments_lexer": "ipython3",
   "version": "3.10.9"
  }
 },
 "nbformat": 4,
 "nbformat_minor": 5
}
