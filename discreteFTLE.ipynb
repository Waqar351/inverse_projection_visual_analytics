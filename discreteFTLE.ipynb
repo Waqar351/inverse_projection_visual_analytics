{
 "cells": [
  {
   "cell_type": "code",
   "execution_count": 1,
   "id": "d14c43f5",
   "metadata": {},
   "outputs": [],
   "source": [
    "import numpy as np"
   ]
  },
  {
   "cell_type": "code",
   "execution_count": 7,
   "id": "eb1290d6",
   "metadata": {},
   "outputs": [],
   "source": [
    "def discreteFTLE(Y,X):\n",
    "    \"\"\"\n",
    "    Y is a 3x2 matrix where each row correspond to a vertex of the triangle in R2\n",
    "    X is a 3xn matrix where each row correspond to a vertex of the triangle in Rn\n",
    "       - the vertices in the rows of X must correspond to the vertices in the same row of U\n",
    "             \n",
    "                       y0         |- y0 -|                      x0      |- x0 -|\n",
    "    (triangle in R2)  / \\   -> Y= |- y1 -|   (triangle in Rn)  / \\    U=|- x1 -|\n",
    "                    y1 - y2       |- y2 -|                   x1 - x2    |- x2 -|\n",
    "                    \n",
    "       - y0 corresponds to x0, y1 to x1, and y2 to x2\n",
    "    \"\"\"\n",
    "    V = np.zeros((2,2))\n",
    "    V[0] = Y[1]-Y[0]\n",
    "    V[1] = Y[2]-Y[0]\n",
    "    \n",
    "    U = np.zeros((2,X.shape[1]))\n",
    "    U[0] = X[1]-X[0]\n",
    "    U[1] = X[2]-X[0]\n",
    "    \n",
    "    A = np.linalg.solve(V,U)\n",
    "    \n",
    "    rho = np.linalg.norm(A,ord=2)\n",
    "    return(rho)"
   ]
  },
  {
   "cell_type": "code",
   "execution_count": 15,
   "id": "73f3b61b",
   "metadata": {},
   "outputs": [
    {
     "name": "stdout",
     "output_type": "stream",
     "text": [
      "7.84756301742039\n"
     ]
    }
   ],
   "source": [
    "# y = np.array([[0,0],[1,1],[0,1]])\n",
    "# x = np.array([[0,0,0],[1,0,1],[0,0,1]])\n",
    "# x=0.3*x\n",
    "\n",
    "y = np.array([[1,1],[2,1],[1.5,2]])\n",
    "x = np.array([[1,0,0],[1,1,0],[1,1,1]])\n",
    "x[2]=5*x[2]\n",
    "\n",
    "\n",
    "r=discreteFTLE(y,x)\n",
    "print(r)"
   ]
  }
 ],
 "metadata": {
  "kernelspec": {
   "display_name": "Python 3 (ipykernel)",
   "language": "python",
   "name": "python3"
  },
  "language_info": {
   "codemirror_mode": {
    "name": "ipython",
    "version": 3
   },
   "file_extension": ".py",
   "mimetype": "text/x-python",
   "name": "python",
   "nbconvert_exporter": "python",
   "pygments_lexer": "ipython3",
   "version": "3.10.9"
  }
 },
 "nbformat": 4,
 "nbformat_minor": 5
}
