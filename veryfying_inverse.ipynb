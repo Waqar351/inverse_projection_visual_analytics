{
 "cells": [
  {
   "cell_type": "code",
   "execution_count": 4,
   "metadata": {},
   "outputs": [],
   "source": [
    "import numpy as np\n",
    "import matplotlib.pyplot as plt\n",
    "from sklearn import manifold"
   ]
  },
  {
   "cell_type": "markdown",
   "metadata": {},
   "source": [
    "## Create 3D Gaussians"
   ]
  },
  {
   "cell_type": "code",
   "execution_count": 5,
   "metadata": {},
   "outputs": [
    {
     "name": "stdout",
     "output_type": "stream",
     "text": [
      "[[-0.55601366  0.74146461 -0.58656169]\n",
      " [ 0.83722182 -0.02317762  0.22348773]]\n",
      "(600, 3)\n",
      "(600,)\n"
     ]
    }
   ],
   "source": [
    "dim = 3\n",
    "n_gauss = 2\n",
    "n_pts_per_gauss = 300\n",
    "np.random.seed(5)\n",
    "\n",
    "# centers = np.zeros((n_gauss,dim))\n",
    "# for i in range(1,n_gauss):\n",
    "#     centers[i] = np.random.randint(0,2,3)\n",
    "centers = np.random.uniform(-1,1,size=(n_gauss,3))\n",
    "    \n",
    "print(centers)\n",
    "\n",
    "cov_m = [np.diag([0.01 for i in range(dim)]),np.diag([0.01 if i%2 !=0 else 0.01 for i in range(dim)])]\n",
    "\n",
    "D = np.zeros((n_pts_per_gauss*n_gauss,dim))\n",
    "c = np.zeros(n_pts_per_gauss*n_gauss)      # storage for labels\n",
    "for i in range(n_gauss):\n",
    "    k = np.random.randint(0,2,1)[0]\n",
    "    D[i*n_pts_per_gauss:(i+1)*n_pts_per_gauss] = np.random.multivariate_normal(centers[i],cov_m[k],n_pts_per_gauss)\n",
    "    c[i*n_pts_per_gauss:(i+1)*n_pts_per_gauss] = i \n",
    "D = (D-np.min(D,axis=0))/(np.max(D,axis=0)-np.min(D,axis=0))\n",
    "print(D.shape)\n",
    "print(c.shape)"
   ]
  },
  {
   "cell_type": "code",
   "execution_count": 6,
   "metadata": {},
   "outputs": [],
   "source": [
    "%matplotlib qt\n",
    "\n",
    "# colors = ['r', 'g', 'b']  # Red, Green, Blue\n",
    "colors = ['#FF0000', '#00FF00', '#0000FF', '#FFFF00', '#00FFFF']\n",
    "# Create a figure and 3D axis\n",
    "fig = plt.figure(figsize=(10, 8))\n",
    "ax = fig.add_subplot(projection='3d')\n",
    "\n",
    "# Define colors for each Gaussian distribution\n",
    "\n",
    "# Loop through each Gaussian to plot points with corresponding color\n",
    "for i in range(n_gauss):\n",
    "    ax.scatter(D[c == i, 0], D[c == i, 1], D[c == i, 2], color=colors[i], label=f'Gaussian {i+1}')\n",
    "    # ax.scatter(D[:,0], D[:,1], D[:,2], c=c)\n",
    "\n",
    "# Set labels and title\n",
    "ax.set_xlabel('X-axis')\n",
    "ax.set_ylabel('Y-axis')\n",
    "ax.set_zlabel('Z-axis')\n",
    "ax.set_title('3D Scatter Plot of Data Points from Three Gaussian Distributions')\n",
    "\n",
    "# Add a legend\n",
    "ax.legend()\n",
    "\n",
    "# Show the plot\n",
    "plt.show()"
   ]
  },
  {
   "cell_type": "markdown",
   "metadata": {},
   "source": [
    "## Project 3D to 2D using T-SNE"
   ]
  },
  {
   "cell_type": "code",
   "execution_count": 7,
   "metadata": {},
   "outputs": [],
   "source": [
    "t_sne = manifold.TSNE(\n",
    "    n_components=2,\n",
    "    perplexity=30,\n",
    "    init=\"random\",\n",
    "    random_state=0,\n",
    ")\n",
    "\n",
    "S = t_sne.fit_transform(D)"
   ]
  },
  {
   "cell_type": "markdown",
   "metadata": {},
   "source": [
    "# Plot T-SNE Output (3D --> 2D )"
   ]
  },
  {
   "cell_type": "code",
   "execution_count": 8,
   "metadata": {},
   "outputs": [],
   "source": [
    "# Plotting the t-SNE results with the same color scheme\n",
    "%matplotlib qt\n",
    "\n",
    "# colors = ['r', 'g', 'b','']  # Red, Green, Blue\n",
    "plt.figure(figsize=(10, 8))\n",
    "for i in range(n_gauss):\n",
    "    plt.scatter(S[c == i, 0], S[c == i, 1], color=colors[i], label=f'Gaussian {i+1}')\n",
    "    # plt.scatter(S[c == i, 0], S[c == i, 1], label=f'Gaussian {i+1}')\n",
    "\n",
    "plt.title('t-SNE Visualization of 3D Gaussian Distributions into 2D')\n",
    "plt.legend()\n",
    "plt.grid(True)\n",
    "plt.show()"
   ]
  },
  {
   "cell_type": "markdown",
   "metadata": {},
   "source": [
    "# Inverse Projection"
   ]
  },
  {
   "cell_type": "code",
   "execution_count": 9,
   "metadata": {},
   "outputs": [],
   "source": [
    "import torch\n",
    "import torch.nn as nn\n",
    "import torch.optim as optim\n",
    "from torch.utils.data import DataLoader, TensorDataset\n",
    "\n",
    "from sklearn.model_selection import train_test_split\n",
    "\n",
    "# Define the MLP inverse_model\n",
    "class NNinv(nn.Module):\n",
    "    def __init__(self, input_size, output_size):\n",
    "        super(NNinv, self).__init__()\n",
    "        \n",
    "        # Define the layers\n",
    "        self.layers = nn.Sequential(\n",
    "            nn.Linear(input_size, 64),  # Input to first hidden layer\n",
    "            nn.ReLU(),\n",
    "            nn.Linear(64, 128),  # First hidden layer to second hidden layer\n",
    "            nn.ReLU(),\n",
    "            nn.Linear(128, 256),  # Second hidden layer to third hidden layer\n",
    "            nn.ReLU(),\n",
    "            nn.Linear(256, 512),  # Third hidden layer to fourth hidden layer\n",
    "            nn.ReLU(),\n",
    "            nn.Linear(512, output_size),  # Fifth hidden layer to output\n",
    "            nn.Sigmoid()  # Output layer with sigmoid activation\n",
    "        )\n",
    "    \n",
    "    def forward(self, x):\n",
    "        return self.layers(x)\n",
    "    \n",
    "\n",
    "X_train, X_test, y_train, y_test, c_train, c_test = train_test_split(S, D,c, test_size=0.33, random_state=42, stratify=c)\n"
   ]
  },
  {
   "cell_type": "code",
   "execution_count": 10,
   "metadata": {},
   "outputs": [
    {
     "name": "stdout",
     "output_type": "stream",
     "text": [
      "(402, 2)\n",
      "(198, 2)\n",
      "(402, 3)\n",
      "(198, 3)\n",
      "(402,)\n",
      "(198,)\n"
     ]
    }
   ],
   "source": [
    "print(X_train.shape)\n",
    "print(X_test.shape)\n",
    "print(y_train.shape)\n",
    "print(y_test.shape)\n",
    "print(c_train.shape)\n",
    "print(c_test.shape)"
   ]
  },
  {
   "cell_type": "code",
   "execution_count": 11,
   "metadata": {},
   "outputs": [
    {
     "name": "stdout",
     "output_type": "stream",
     "text": [
      "Epoch [1/5], Loss: 0.1416\n",
      "Epoch [2/5], Loss: 0.0841\n",
      "Epoch [3/5], Loss: 0.0742\n",
      "Epoch [4/5], Loss: 0.0720\n",
      "Epoch [5/5], Loss: 0.0696\n",
      "Training complete.\n",
      "tensor(0.0003, dtype=torch.float64, grad_fn=<DivBackward0>)\n"
     ]
    }
   ],
   "source": [
    "# Example usage\n",
    "input_size = 2  # Example input size (can be changed)\n",
    "output_size = dim   # Binary classification (sigmoid output for single output)\n",
    "\n",
    "# Create DataLoader for batch processing\n",
    "batch_size = 64\n",
    "t_X_train = torch.tensor(X_train)\n",
    "t_y_train = torch.tensor(y_train)\n",
    "dataset = TensorDataset(t_X_train, t_y_train)\n",
    "dataloader = DataLoader(dataset, batch_size=batch_size, shuffle=True)\n",
    "\n",
    "# Instantiate the inverse_model, loss function, and optimizer\n",
    "inverse_model = NNinv(input_size, output_size)\n",
    "loss_fn = nn.L1Loss()  # Mean Absolute Error (MAE)\n",
    "optimizer = optim.Adam(inverse_model.parameters(), lr=0.001)\n",
    "\n",
    "# Number of epochs to train\n",
    "num_epochs = 5\n",
    "\n",
    "# Training loop\n",
    "for epoch in range(num_epochs):\n",
    "    running_loss = 0.0\n",
    "    for i, (inputs, targets) in enumerate(dataloader):\n",
    "        # Forward pass\n",
    "        outputs = inverse_model(inputs)\n",
    "        loss = loss_fn(outputs, targets)\n",
    "        \n",
    "        # Backward pass and optimization\n",
    "        optimizer.zero_grad()\n",
    "        loss.backward()\n",
    "        optimizer.step()\n",
    "\n",
    "        running_loss += loss.item()\n",
    "    \n",
    "    # Print the average loss for the epoch\n",
    "    avg_loss = running_loss / len(dataloader)\n",
    "    print(f\"Epoch [{epoch+1}/{num_epochs}], Loss: {avg_loss:.4f}\")\n",
    "\n",
    "print(\"Training complete.\")\n",
    "\n",
    "t_X_test = torch.tensor(X_test)\n",
    "t_y_test = torch.tensor(y_test)\n",
    "outputs_test = inverse_model(t_X_test)\n",
    "loss_test = loss_fn(outputs_test, t_y_test)\n",
    "print(loss_test/y_test.shape[0])"
   ]
  },
  {
   "cell_type": "code",
   "execution_count": 12,
   "metadata": {},
   "outputs": [],
   "source": [
    "%matplotlib qt\n",
    "\n",
    "# Create a figure and 3D axis\n",
    "fig = plt.figure(figsize=(10, 8))\n",
    "ax = fig.add_subplot(projection='3d')\n",
    "\n",
    "# Define colors for each Gaussian distribution\n",
    "# colors = ['r', 'g', 'b']  # Red, Green, Blue\n",
    "\n",
    "\n",
    "output_fin = outputs_test.detach().numpy()\n",
    "# Loop through each Gaussian to plot points with corresponding color\n",
    "for i in range(n_gauss):\n",
    "    ax.scatter(t_y_test[c_test == i, 0], t_y_test[c_test == i, 1], t_y_test[c_test == i, 2], color=colors[i], label=f'Actual_Gaussian {i+1}')\n",
    "    # ax.scatter(output_fin[c_test == i, 0], output_fin[c_test == i, 1], output_fin[c_test == i, 2], color='orange', label=f'Predicted_Gaussian {i+1}')\n",
    "\n",
    "ax.scatter(output_fin[:, 0], output_fin[:, 1], output_fin[:, 2], color='orange', label=f'Predicted_Gaussians')\n",
    "\n",
    "# Set labels and title\n",
    "ax.set_xlabel('X-axis')\n",
    "ax.set_ylabel('Y-axis')\n",
    "ax.set_zlabel('Z-axis')\n",
    "ax.set_title('TSNE \\n Actual Vs Prediction')\n",
    "\n",
    "# Add a legend\n",
    "ax.legend()\n",
    "\n",
    "# Show the plot\n",
    "plt.show()"
   ]
  },
  {
   "cell_type": "markdown",
   "metadata": {},
   "source": [
    "# Create interpolated points only"
   ]
  },
  {
   "cell_type": "code",
   "execution_count": 13,
   "metadata": {},
   "outputs": [
    {
     "name": "stdout",
     "output_type": "stream",
     "text": [
      "[-22.76501   11.038555]\n",
      "[ 19.923922  -12.6635275]\n"
     ]
    }
   ],
   "source": [
    "# Calculate centroids\n",
    "centroid_1 = np.mean(S[c ==0], axis=0)\n",
    "print(centroid_1)\n",
    "centroid_2 = np.mean(S[c ==1], axis=0)\n",
    "print(centroid_2)"
   ]
  },
  {
   "cell_type": "code",
   "execution_count": 14,
   "metadata": {},
   "outputs": [],
   "source": [
    "# Number of points to interpolate along the line\n",
    "n_interpolated_points = 100\n",
    "\n",
    "# Generate interpolated points along the line\n",
    "interpolated_points = np.linspace(centroid_1, centroid_2, n_interpolated_points)\n",
    "\n",
    "# Plot original points, centroids, and interpolated line\n",
    "# plt.scatter(gaussian_1_2d[:, 0], gaussian_1_2d[:, 1], color='blue', label=\"Gaussian 1\")\n",
    "# plt.scatter(gaussian_2_2d[:, 0], gaussian_2_2d[:, 1], color='green', label=\"Gaussian 2\")\n",
    "# plt.plot(interpolated_points[:, 0], interpolated_points[:, 1], 'k--', label=\"Connecting Line\")\n",
    "\n",
    "plt.figure(figsize=(10, 8))\n",
    "plt.scatter(S[c == 0, 0], S[c == 0, 1], color='blue', label=\"Gaussian 1\")\n",
    "plt.scatter(S[c == 1, 0], S[c == 1, 1], color='green', label=\"Gaussian 2\")\n",
    "# plt.plot(interpolated_points[:, 0], interpolated_points[:, 1], 'k--', label=\"Connecting Line\")\n",
    "plt.scatter(interpolated_points[:, 0], interpolated_points[:, 1], label=\"Connecting Line\")\n",
    "\n",
    "# Mark centroids\n",
    "plt.scatter(centroid_1[0], centroid_1[1], color='blue', marker='X', s=100, label=\"Centroid 1\")\n",
    "plt.scatter(centroid_2[0], centroid_2[1], color='green', marker='X', s=100, label=\"Centroid 2\")\n",
    "\n",
    "plt.legend()\n",
    "plt.xlabel(\"t-SNE Component 1\")\n",
    "plt.ylabel(\"t-SNE Component 2\")\n",
    "plt.title(\"Connecting Line with Interpolated Points Between Centroids\")\n",
    "plt.show()\n"
   ]
  },
  {
   "cell_type": "code",
   "execution_count": 15,
   "metadata": {},
   "outputs": [],
   "source": [
    "new_points_test = torch.tensor(interpolated_points).float()\n",
    "outputs_new_points = inverse_model(new_points_test)\n",
    "outputs_new_points =outputs_new_points.detach().numpy()"
   ]
  },
  {
   "cell_type": "code",
   "execution_count": 16,
   "metadata": {},
   "outputs": [],
   "source": [
    "%matplotlib qt\n",
    "\n",
    "# Create a figure and 3D axis\n",
    "fig = plt.figure(figsize=(10, 8))\n",
    "ax = fig.add_subplot(projection='3d')\n",
    "\n",
    "# # Define colors for each Gaussian distribution\n",
    "# colors = ['r', 'g', 'b']  # Red, Green, Blue\n",
    "\n",
    "# Loop through each Gaussian to plot points with corresponding color\n",
    "for i in range(n_gauss):\n",
    "    ax.scatter(D[c == i, 0], D[c == i, 1], D[c == i, 2], color=colors[i], alpha=0.7, label=f'Gaussian {i+1}')\n",
    "\n",
    "# ax.scatter(outputs_new_points[:, 0], outputs_new_points[:, 1], outputs_new_points[:, 2], s=150, label=f'New_points_Gaussian')\n",
    "ax.scatter(outputs_new_points[:, 0], outputs_new_points[:, 1], outputs_new_points[:, 2], label=f'New_points_Gaussian')\n",
    "\n",
    "# ax.scatter(outputs_new_points[:, 0], outputs_new_points[:, 1], outputs_new_points[:, 2], color='k', label=f'Predicted_Gaussian {i+1}')\n",
    "\n",
    "# Set labels and title\n",
    "ax.set_xlabel('X-axis')\n",
    "ax.set_ylabel('Y-axis')\n",
    "ax.set_zlabel('Z-axis')\n",
    "ax.set_title(' New points (2D TSNE) mapping into 3D Gaussian Distributions')\n",
    "\n",
    "# Add a legend\n",
    "ax.legend()\n",
    "\n",
    "# Show the plot\n",
    "plt.show()"
   ]
  },
  {
   "cell_type": "markdown",
   "metadata": {},
   "source": [
    "# Create new points with labels"
   ]
  },
  {
   "cell_type": "code",
   "execution_count": 17,
   "metadata": {},
   "outputs": [],
   "source": [
    "# import numpy as np\n",
    "# import matplotlib.pyplot as plt\n",
    "# from sklearn.manifold import TSNE\n",
    "from scipy.spatial.distance import cdist\n",
    "\n",
    "# # Generate two 3D Gaussian distributions\n",
    "# gaussian_1 = np.random.multivariate_normal([1, 1, 1], np.eye(3) * 0.1, 100)\n",
    "# gaussian_2 = np.random.multivariate_normal([3, 3, 3], np.eye(3) * 0.1, 100)\n",
    "\n",
    "# # Concatenate the data for t-SNE\n",
    "# data = np.vstack((gaussian_1, gaussian_2))\n",
    "# labels = np.array([0] * 100 + [1] * 100)\n",
    "\n",
    "# # Perform t-SNE to reduce to 2D\n",
    "# tsne = TSNE(n_components=2, random_state=0)\n",
    "# data_2d = tsne.fit_transform(data)\n",
    "\n",
    "# # Calculate centroids in 2D\n",
    "# centroid_1 = np.mean(data_2d[labels == 0], axis=0)\n",
    "# centroid_2 = np.mean(data_2d[labels == 1], axis=0)\n",
    "\n",
    "# Number of points to generate between centroids\n",
    "n_new_points = 100\n",
    "\n",
    "# # Generate points along the line between centroids\n",
    "interpolated_points = np.random.uniform(0, 1, n_new_points)[:, None] * (centroid_2 - centroid_1) + centroid_1\n",
    "\n",
    "# # Add noise to spread points around the line\n",
    "noise = np.random.normal(0, 0.05, interpolated_points.shape)  # Adjust spread with the 0.05 parameter\n",
    "new_points = interpolated_points + noise\n",
    "\n",
    "# # Assign labels based on proximity to centroids\n",
    "# new_points = interpolated_points\n",
    "dist_to_centroid1 = cdist(new_points, centroid_1[None, :])\n",
    "dist_to_centroid2 = cdist(new_points, centroid_2[None, :])\n",
    "\n",
    "new_labels = np.where(dist_to_centroid1 < dist_to_centroid2, 0, 1)\n",
    "\n",
    "# # Plot original points, centroids, and new points\n",
    "# # Create a figure and 3D axis\n",
    "fig = plt.figure(figsize=(10, 8))\n",
    "plt.scatter(S[c == 0, 0], S[c == 0, 1], color='blue', label=\"Gaussian 1\")\n",
    "plt.scatter(S[c == 1, 0], S[c == 1, 1], color='green', label=\"Gaussian 2\")\n",
    "# plt.scatter(S[c == 0][:, 0], data_2d[labels == 0][:, 1], color='blue', alpha=0.5, label=\"Gaussian 1\")\n",
    "# plt.scatter(data_2d[labels == 1][:, 0], data_2d[labels == 1][:, 1], color='green', alpha=0.5, label=\"Gaussian 2\")\n",
    "plt.scatter(new_points[:, 0], new_points[:, 1], c=new_labels, cmap='coolwarm', alpha=0.6, label=\"New Points\")\n",
    "plt.scatter(centroid_1[0], centroid_1[1], color='blue', marker='X', s=100, label=\"Centroid 1\")\n",
    "plt.scatter(centroid_2[0], centroid_2[1], color='green', marker='X', s=100, label=\"Centroid 2\")\n",
    "\n",
    "plt.legend()\n",
    "plt.xlabel(\"t-SNE Component 1\")\n",
    "plt.ylabel(\"t-SNE Component 2\")\n",
    "plt.title(\"New Points with Labels Based on Proximity to Centroids\")\n",
    "plt.show()\n",
    "\n",
    "# # ##Save the new points and labels\n",
    "# # ##np.save(\"new_generated_points.npy\", new_points)\n",
    "# # ##np.save(\"new_generated_labels.npy\", new_labels)\n",
    "\n",
    "# ##print(\"New points and labels saved.\")\n"
   ]
  },
  {
   "cell_type": "code",
   "execution_count": 18,
   "metadata": {},
   "outputs": [
    {
     "name": "stdout",
     "output_type": "stream",
     "text": [
      "100\n",
      "(100, 2)\n",
      "(100, 1)\n",
      "(100, 1)\n"
     ]
    }
   ],
   "source": [
    "print(len(interpolated_points))\n",
    "print(interpolated_points.shape)\n",
    "print(dist_to_centroid2.shape)\n",
    "print(new_labels.shape)"
   ]
  },
  {
   "cell_type": "code",
   "execution_count": 19,
   "metadata": {},
   "outputs": [
    {
     "data": {
      "text/plain": [
       "array([[1],\n",
       "       [0],\n",
       "       [0],\n",
       "       [0],\n",
       "       [1],\n",
       "       [0],\n",
       "       [1],\n",
       "       [0],\n",
       "       [0],\n",
       "       [1],\n",
       "       [0],\n",
       "       [1],\n",
       "       [1],\n",
       "       [0],\n",
       "       [1],\n",
       "       [1],\n",
       "       [0],\n",
       "       [0],\n",
       "       [1],\n",
       "       [1],\n",
       "       [0],\n",
       "       [1],\n",
       "       [0],\n",
       "       [1],\n",
       "       [1],\n",
       "       [1],\n",
       "       [1],\n",
       "       [1],\n",
       "       [1],\n",
       "       [1],\n",
       "       [1],\n",
       "       [1],\n",
       "       [0],\n",
       "       [0],\n",
       "       [1],\n",
       "       [0],\n",
       "       [0],\n",
       "       [0],\n",
       "       [0],\n",
       "       [1],\n",
       "       [0],\n",
       "       [0],\n",
       "       [0],\n",
       "       [1],\n",
       "       [0],\n",
       "       [1],\n",
       "       [0],\n",
       "       [1],\n",
       "       [1],\n",
       "       [1],\n",
       "       [0],\n",
       "       [0],\n",
       "       [1],\n",
       "       [0],\n",
       "       [1],\n",
       "       [0],\n",
       "       [0],\n",
       "       [0],\n",
       "       [0],\n",
       "       [1],\n",
       "       [1],\n",
       "       [0],\n",
       "       [0],\n",
       "       [1],\n",
       "       [1],\n",
       "       [1],\n",
       "       [0],\n",
       "       [0],\n",
       "       [1],\n",
       "       [1],\n",
       "       [0],\n",
       "       [1],\n",
       "       [1],\n",
       "       [0],\n",
       "       [1],\n",
       "       [1],\n",
       "       [0],\n",
       "       [1],\n",
       "       [1],\n",
       "       [1],\n",
       "       [0],\n",
       "       [1],\n",
       "       [1],\n",
       "       [1],\n",
       "       [1],\n",
       "       [0],\n",
       "       [1],\n",
       "       [0],\n",
       "       [1],\n",
       "       [0],\n",
       "       [0],\n",
       "       [1],\n",
       "       [1],\n",
       "       [0],\n",
       "       [0],\n",
       "       [1],\n",
       "       [0],\n",
       "       [0],\n",
       "       [0],\n",
       "       [0]])"
      ]
     },
     "execution_count": 19,
     "metadata": {},
     "output_type": "execute_result"
    }
   ],
   "source": [
    "new_labels"
   ]
  },
  {
   "cell_type": "code",
   "execution_count": 20,
   "metadata": {},
   "outputs": [
    {
     "data": {
      "text/plain": [
       "array([1, 0, 0, 0, 1, 0, 1, 0, 0, 1, 0, 1, 1, 0, 1, 1, 0, 0, 1, 1, 0, 1,\n",
       "       0, 1, 1, 1, 1, 1, 1, 1, 1, 1, 0, 0, 1, 0, 0, 0, 0, 1, 0, 0, 0, 1,\n",
       "       0, 1, 0, 1, 1, 1, 0, 0, 1, 0, 1, 0, 0, 0, 0, 1, 1, 0, 0, 1, 1, 1,\n",
       "       0, 0, 1, 1, 0, 1, 1, 0, 1, 1, 0, 1, 1, 1, 0, 1, 1, 1, 1, 0, 1, 0,\n",
       "       1, 0, 0, 1, 1, 0, 0, 1, 0, 0, 0, 0])"
      ]
     },
     "execution_count": 20,
     "metadata": {},
     "output_type": "execute_result"
    }
   ],
   "source": [
    "new_labels.flatten()"
   ]
  },
  {
   "cell_type": "code",
   "execution_count": 21,
   "metadata": {},
   "outputs": [],
   "source": [
    "new_points_test_with_labels = torch.tensor(new_points).float()\n",
    "outputs_new_points_lbl = inverse_model(new_points_test_with_labels)\n",
    "outputs_new_points_lbl =outputs_new_points_lbl.detach().numpy()"
   ]
  },
  {
   "cell_type": "code",
   "execution_count": 22,
   "metadata": {},
   "outputs": [],
   "source": [
    "%matplotlib qt\n",
    "\n",
    "# Create a figure and 3D axis\n",
    "fig = plt.figure(figsize=(10, 8))\n",
    "ax = fig.add_subplot(projection='3d')\n",
    "\n",
    "# # Define colors for each Gaussian distribution\n",
    "# colors = ['r', 'g', 'b']  # Red, Green, Blue\n",
    "new_labels = new_labels.flatten()\n",
    "# Loop through each Gaussian to plot points with corresponding color\n",
    "for i in range(n_gauss):\n",
    "    ax.scatter(D[c == i, 0], D[c == i, 1], D[c == i, 2], color=colors[i], alpha=0.7, label=f'Gaussian {i+1}')\n",
    "\n",
    "    # ax.scatter(outputs_new_points_lbl[new_labels == i, 0], outputs_new_points_lbl[new_labels == i, 1], outputs_new_points_lbl[new_labels == i, 2],cmap='coolwarm', label=f'New_points_Gaussian')\n",
    "ax.scatter(outputs_new_points_lbl[:, 0], outputs_new_points_lbl[:, 1], outputs_new_points_lbl[:, 2], c= new_labels, cmap='coolwarm', label=f'New_points_Gaussian')\n",
    "\n",
    "# Set labels and title\n",
    "ax.set_xlabel('X-axis')\n",
    "ax.set_ylabel('Y-axis')\n",
    "ax.set_zlabel('Z-axis')\n",
    "ax.set_title(' New points with labels(2D TSNE) mapping into 3D Gaussian Distributions')\n",
    "\n",
    "# Add a legend\n",
    "ax.legend()\n",
    "\n",
    "# Show the plot\n",
    "plt.show()"
   ]
  }
 ],
 "metadata": {
  "kernelspec": {
   "display_name": "inverse-projection-j9xKauoB-py3.12",
   "language": "python",
   "name": "python3"
  },
  "language_info": {
   "codemirror_mode": {
    "name": "ipython",
    "version": 3
   },
   "file_extension": ".py",
   "mimetype": "text/x-python",
   "name": "python",
   "nbconvert_exporter": "python",
   "pygments_lexer": "ipython3",
   "version": "3.12.2"
  }
 },
 "nbformat": 4,
 "nbformat_minor": 2
}
